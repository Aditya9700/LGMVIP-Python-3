{
 "cells": [
  {
   "cell_type": "markdown",
   "id": "0c9abf9e-54a3-48c5-a3d9-50ab280aef4b",
   "metadata": {},
   "source": [
    "# Rock, Paper and Scissors Game"
   ]
  },
  {
   "cell_type": "markdown",
   "id": "24530782-4ff4-40e3-b61d-c6105f95c313",
   "metadata": {},
   "source": [
    "## by Aditya Rana"
   ]
  },
  {
   "cell_type": "markdown",
   "id": "471ea696-430c-4922-b192-da70e070b541",
   "metadata": {},
   "source": [
    "### Source Code of the Entire Program"
   ]
  },
  {
   "cell_type": "markdown",
   "id": "477bc914-2d10-48bb-8ca1-7e56d39378c8",
   "metadata": {},
   "source": [
    "#### Importing Random and tkinter moudules"
   ]
  },
  {
   "cell_type": "code",
   "execution_count": null,
   "id": "75e59c5f-e051-483b-b4d7-c8430feb443f",
   "metadata": {},
   "outputs": [],
   "source": [
    "import random\n",
    "import tkinter"
   ]
  },
  {
   "cell_type": "markdown",
   "id": "1ce8129e-a23a-458f-ae45-c462e2ff5d94",
   "metadata": {},
   "source": [
    "#### Main Source Code of the Program"
   ]
  },
  {
   "cell_type": "code",
   "execution_count": 4,
   "id": "b61c4fb8-d954-4db1-8e49-121ad4c53e91",
   "metadata": {},
   "outputs": [
    {
     "name": "stdout",
     "output_type": "stream",
     "text": [
      "L D D L L W L L W L D L L D W D D D W D \n",
      "You Lost the series.\n"
     ]
    }
   ],
   "source": [
    "import random\n",
    "import tkinter\n",
    "\n",
    "stats = []\n",
    "\n",
    "#Logic of the Game\n",
    "\n",
    "def get_winner(call):\n",
    "    global stats\n",
    "    throw = \"\"\n",
    "    if random.random() <= (1/3):\n",
    "        throw = \"rock\"\n",
    "    elif (1/3) < random.random() <= (2/3):\n",
    "        throw = \"scissors\"\n",
    "    else:\n",
    "        throw = \"paper\"\n",
    "    \n",
    "    if (throw == \"rock\" and call == \"paper\") or (throw == \"paper\" and call == \"scissors\") or (throw == \"scissors\" and call == \"rock\"):\n",
    "        stats.append('W')\n",
    "        result = \"You won !\"\n",
    "    elif throw == call:\n",
    "        stats.append('D')\n",
    "        result = \"It's a Draw\"\n",
    "    else:\n",
    "        stats.append('L')\n",
    "        result = \"You Lost !\"\n",
    "    \n",
    "    output.config(text=\"Computer did: \" + throw + \"\\n\" + result)\n",
    "\n",
    "def pass_s():\n",
    "    get_winner(\"scissors\")\n",
    "\n",
    "def pass_r():\n",
    "    get_winner(\"rock\")\n",
    "\n",
    "def pass_p():\n",
    "    get_winner(\"paper\")\n",
    "\n",
    "\n",
    "\n",
    "#GUI using tkinter module\n",
    "\n",
    "root = tkinter.Tk()\n",
    "root.title(\"Rock Paper Scissors - Aditya Rana\")\n",
    "root.geometry(\"940x170\")\n",
    "\n",
    "\n",
    "\n",
    "heading_text = \"Classic Rock Paper and Scissors Game\"\n",
    "\n",
    "\n",
    "heading_label = tkinter.Label(root, text=heading_text, font=(\"Arial\", 16, \"bold\") )\n",
    "heading_label.pack(pady=10)\n",
    "\n",
    "  \n",
    "label = tkinter.Label(root, text=\"by Aditya Rana\", font=(\"Arial\", 12, \"bold\"))\n",
    "label.pack(pady=5)\n",
    "\n",
    "\n",
    "scissors = tkinter.Button(root, text=\"Scissors\", bg=\"#6efaf3\", padx=10, pady=5, command=pass_s, width=20,font=(\"Cambria\",11,\"bold\"))\n",
    "rock = tkinter.Button(root, text=\"Rock\", bg=\"#f2f255\", padx=10, pady=5, command=pass_r, width=20,font=(\"Cambria\",11,\"bold\"))\n",
    "paper = tkinter.Button(root, text=\"Paper\", bg=\"#6efa96\", padx=10, pady=5, command=pass_p, width=20,font=(\"Cambria\",11,\"bold\"))\n",
    "output = tkinter.Label(root, width=20, fg='#e31e1e', text=\"What's your Choice? \",font=('Algerian',20))\n",
    "\n",
    "scissors.pack(side=\"left\")\n",
    "rock.pack(side=\"left\")\n",
    "paper.pack(side=\"left\")\n",
    "output.pack(side=\"right\")\n",
    "\n",
    "root.mainloop()\n",
    "\n",
    "for i in stats:\n",
    "    print(i, end=\" \")\n",
    "\n",
    "if stats.count('L') > stats.count('W'):\n",
    "    result = \"\\nYou Lost the series.\"\n",
    "elif stats.count('L') == stats.count('W'):\n",
    "    result = \"\\nSeries ended in draw.\"\n",
    "else:\n",
    "    result = \"\\nYou Won the series\"\n",
    "\n",
    "print(result)\n"
   ]
  },
  {
   "cell_type": "code",
   "execution_count": null,
   "id": "6c468473-acbf-4b0c-a62e-5087cf94fd74",
   "metadata": {},
   "outputs": [],
   "source": []
  },
  {
   "cell_type": "code",
   "execution_count": null,
   "id": "e7bf7a64-9a3b-4eae-9d07-dae39d5903c9",
   "metadata": {},
   "outputs": [],
   "source": []
  }
 ],
 "metadata": {
  "kernelspec": {
   "display_name": "test_venv",
   "language": "python",
   "name": "test_venv"
  },
  "language_info": {
   "codemirror_mode": {
    "name": "ipython",
    "version": 3
   },
   "file_extension": ".py",
   "mimetype": "text/x-python",
   "name": "python",
   "nbconvert_exporter": "python",
   "pygments_lexer": "ipython3",
   "version": "3.9.5"
  }
 },
 "nbformat": 4,
 "nbformat_minor": 5
}
